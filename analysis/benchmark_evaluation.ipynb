{
 "cells": [
  {
   "cell_type": "markdown",
   "metadata": {
    "kernel": "SoS"
   },
   "source": [
    "# Pipelines to evaluate fine-mapping benchmarks"
   ]
  },
  {
   "cell_type": "markdown",
   "metadata": {
    "kernel": "SoS"
   },
   "source": [
    "This document contains several workflows to extract results from fine-mapping benchmarks and make plots for (mostly) SuSiE manuscript."
   ]
  },
  {
   "cell_type": "code",
   "execution_count": null,
   "metadata": {
    "kernel": "SoS"
   },
   "outputs": [],
   "source": [
    "[global]\n",
    "parameter: cwd = path('~/GIT/lab-dsc/dsc-finemap')\n",
    "parameter: version = '20190610'\n",
    "# set to 0 to use estimated prior, or another number to use specified prior\n",
    "# as configured in the DSC\n",
    "parameter: susie_prior = [0.1, 0.0]\n",
    "# null weight options to evaluate\n",
    "parameter: null_weight = [0.0]\n",
    "parameter: output_dir = path(f'{cwd:a}/output/susie_paper')\n",
    "\n",
    "def fmtP(x):\n",
    "    return str(x).replace(\".\", \"p\")"
   ]
  },
  {
   "cell_type": "markdown",
   "metadata": {
    "kernel": "SoS"
   },
   "source": [
    "## Query results"
   ]
  },
  {
   "cell_type": "code",
   "execution_count": null,
   "metadata": {
    "kernel": "SoS"
   },
   "outputs": [],
   "source": [
    "[pip_1, cali_1]\n",
    "depends: R_library('tibble')\n",
    "output: f'{output_dir}/result_{version}.rds'\n",
    "R: expand = '${ }', workdir = cwd\n",
    "    library(tibble)\n",
    "    dap_out = dscrutils::dscquery(${output_dir:r},\n",
    "                        targets = c(\"small_data.dataset\", \"lm_pve02.meta\", \"lm_pve02.n_signal\", \n",
    "                                  \"score_dap.total\", \"score_dap.valid\", \"score_dap.size\", \"score_dap.avgr2\", \n",
    "                                  \"score_dap.top\", \"score_dap.overlap\", \"score_dap.signal_pip\", \"score_dap.pip\"))\n",
    "    susie_out = dscrutils::dscquery(${output_dir:r},\n",
    "                        targets = c(\"small_data.dataset\", \"lm_pve02.meta\", \"lm_pve02.n_signal\", \"susie.prior_var\", \"susie.null_weight\", \n",
    "                                  \"score_susie.total\", \"score_susie.valid\", \"score_susie.size\", \"score_susie.purity\", \"score_susie.top\", \n",
    "                                  \"score_susie.objective\", \"score_susie.converged\", \"score_susie.overlap\", \"score_susie.signal_pip\", \"score_susie.pip\"))\n",
    "    caviar_out = dscrutils::dscquery(${output_dir:r},\n",
    "                        targets = c(\"small_data.dataset\", \"lm_pve02.meta\", \"lm_pve02.n_signal\", \"caviar_in_sample.args\", \n",
    "                                  \"score_caviar.total\", \"score_caviar.valid\", \"score_caviar.size\", \" score_caviar.signal_pip\", \"score_caviar.pip\"))\n",
    "    finemap_out = dscrutils::dscquery(${output_dir:r},\n",
    "                        targets = c(\"small_data.dataset\", \"lm_pve02.meta\", \"lm_pve02.n_signal\", \"finemap_in_sample.args\", \n",
    "                                  \"score_finemap.total\", \"score_finemap.valid\", \"score_finemap.size\", \"score_finemap.signal_pip\", \"score_finemap.pip\"))\n",
    "    rename_cols = function(dat) {\n",
    "      for (item in names(dat)) {\n",
    "          tmp = strsplit(colnames(dat[[item]]), \"[.]\")\n",
    "          colnames(dat[[item]]) = unlist(lapply(1:length(tmp), function(i) ifelse(length(tmp[[i]])>1, tmp[[i]][2], tmp[[i]][1])))\n",
    "      }\n",
    "      return(dat)\n",
    "    }\n",
    "    # remove module names from column names; this is Okay because every column field here are unique\n",
    "    res = rename_cols(list(dap=as_tibble(dap_out), susie=as_tibble(susie_out), caviar=as_tibble(caviar_out), finemap=as_tibble(finemap_out)))\n",
    "    saveRDS(res, ${_output:r})"
   ]
  },
  {
   "cell_type": "markdown",
   "metadata": {
    "kernel": "SoS"
   },
   "source": [
    "## PIP extraction"
   ]
  },
  {
   "cell_type": "code",
   "execution_count": null,
   "metadata": {
    "kernel": "SoS"
   },
   "outputs": [],
   "source": [
    "[pip_2, cali_2]\n",
    "depends: R_library('tibble'), R_library('dplyr')\n",
    "input: for_each = ['susie_prior', 'null_weight']\n",
    "output: f'{_input:n}_prior_{fmtP(_susie_prior)}_null_{fmtP(_null_weight)}.rds'\n",
    "R: stdout = f'{_output:n}.log', expand = '${ }', workdir = cwd\n",
    "    dat = readRDS(${_input:r})\n",
    "    dap_out = dat$dap\n",
    "    caviar_out = dat$caviar\n",
    "    susie_out = dat$susie\n",
    "    finemap_out = dat$finemap\n",
    "    # favorit susie flavor\n",
    "    susie_out = susie_out[which(susie_out$prior_var == ${_susie_prior} & susie_out$null_weight == ${_null_weight}), ]\n",
    "    # and for the rest of the PIP analysis we pool across all data-set\n",
    "    # but we evaluate for each number of signals settings\n",
    "    # PVE is fixed to 0.2 here using `lm_pve02` module\n",
    "    data_sets = unique(susie_out$dataset)\n",
    "    n_signals = unique(susie_out$n_signal)\n",
    "    result = list()\n",
    "    for (s in n_signals) {\n",
    "        result[[as.character(s)]] = NULL\n",
    "        if (s > 3) {\n",
    "            has_caviar = FALSE\n",
    "        } else {\n",
    "            has_caviar = TRUE\n",
    "        }\n",
    "        print(paste('==============', s, '=============='))\n",
    "        for (d in data_sets) {\n",
    "            # should all be one row\n",
    "            susie_row = susie_out[which(susie_out$n_signal == s & susie_out$dataset == d), ]\n",
    "            dap_row = dap_out[which(dap_out$n_signal == s & dap_out$dataset == d), ]\n",
    "            if (nrow(susie_row) != 1 || nrow(dap_row) != 1) stop(\"Rows are not unique for susie & dap\")\n",
    "            if (has_caviar) {\n",
    "              caviar_row = caviar_out[which(caviar_out$n_signal == s & caviar_out$dataset == d & caviar_out$args == paste('-g 0.001 -c', s)), ]\n",
    "              finemap_row = finemap_out[which(finemap_out$n_signal == s & finemap_out$dataset == d & finemap_out$args == paste('--n-causal-max', s)), ]\n",
    "              if (nrow(caviar_row) != 1 || nrow(finemap_row) != 1) stop(\"Rows are not unique for caviar & finemap\")\n",
    "            }\n",
    "            # a slightly awkward yet convenient syntax thanks to tibble format\n",
    "            truth = susie_row$meta[[1]]$true_coef\n",
    "            for (r in 1:1) {\n",
    "              susie_pip = susie_row$pip[[1]][,r]\n",
    "              dap_pip = dap_row$pip[[1]][,r]\n",
    "              if (has_caviar) {\n",
    "                  caviar_pip = caviar_row$pip[[1]][,r]\n",
    "                  finemap_pip = finemap_row$pip[[1]][,r]\n",
    "                  pip = cbind(susie_pip, dap_pip, caviar_pip, finemap_pip, truth[,r] != 0)\n",
    "              } else {\n",
    "                  pip = cbind(susie_pip, dap_pip, truth[,r] != 0)\n",
    "              }\n",
    "              # remove all zero PIP / table\n",
    "              pip = pip[rowSums(pip) > 0, ]\n",
    "              ## BEGIN debug\n",
    "              outlier = pip[which(pip[,1] < 0.1 & pip[,2]>0.6), ,drop=F]\n",
    "              if (nrow(outlier)>0 && s <= 2) {\n",
    "                print(\"DAP outlier\")\n",
    "                print(c(r,d))\n",
    "              }\n",
    "              if (has_caviar && s == 1) {\n",
    "                conflict = pip[which(pip[,1] < 0.95 & pip[,3] > 0.95), ,drop=F]\n",
    "                if (nrow(conflict) > 0) {\n",
    "                    print(\"CAVIAR-susie conflict\")\n",
    "                    print(d)\n",
    "                    print(pip[conflict,])\n",
    "                    print(\"CAVIAR\")\n",
    "                    print(which(caviar_pip>0.95))\n",
    "                    print(\"SuSiE\")\n",
    "                    print(which(susie_pip>0.95))\n",
    "                }\n",
    "                outlier = pip[which(pip[,1] > 0.1 & pip[,3] < 0.1), ,drop=F]\n",
    "                if (nrow(outlier)>0 && s <= 2) {\n",
    "                    print(\"SuSiE outlier\")\n",
    "                    print(c(r,d))\n",
    "                }\n",
    "              }\n",
    "              ## END debug\n",
    "              if (is.null(result[[as.character(s)]])) {\n",
    "                  result[[as.character(s)]] = pip\n",
    "              } else {\n",
    "                  result[[as.character(s)]] = rbind(result[[as.character(s)]], pip)\n",
    "              }\n",
    "           }\n",
    "        }\n",
    "        result[[as.character(s)]] = data.frame(result[[as.character(s)]])\n",
    "        if (has_caviar) {\n",
    "            colnames(result[[as.character(s)]]) = c('susie', 'dap', 'caviar', 'finemap', 'is_signal')\n",
    "        } else {\n",
    "            colnames(result[[as.character(s)]]) = c('susie', 'dap', 'is_signal')\n",
    "        }\n",
    "    }\n",
    "    saveRDS(result, ${_output:r})"
   ]
  },
  {
   "cell_type": "markdown",
   "metadata": {
    "kernel": "SoS"
   },
   "source": [
    "## PIP direct comparison"
   ]
  },
  {
   "cell_type": "code",
   "execution_count": null,
   "metadata": {
    "kernel": "SoS"
   },
   "outputs": [],
   "source": [
    "[pip_3]\n",
    "comparisons = ['susie_vs_dap', 'susie_vs_caviar', 'susie_vs_finemap', 'dap_vs_caviar', 'dap_vs_finemap', 'caviar_vs_finemap']\n",
    "input: group_by = 1, concurrent = True\n",
    "output: paths([f'{_input:n}.{x}.png' for x in comparisons])\n",
    "R: expand = '${ }'\n",
    "    result = readRDS(${_input:r})\n",
    "    merge_img = function(prefix, n) {\n",
    "        files = paste0(prefix, '_', seq(1:n), '.png')\n",
    "        cmd = paste('convert +append', paste(files, collapse=\" \"), paste0(prefix, '.png'))\n",
    "        system(cmd)\n",
    "        system(paste('rm -f', paste(files, collapse=\" \")))\n",
    "        files = paste0(prefix, '_', seq(1:n), '.md')\n",
    "        cmd = paste('cat', paste(files, collapse=\" \"), '>', paste0(prefix, '.md'))\n",
    "        system(cmd)\n",
    "        system(paste('rm -f', paste(files, collapse=\" \")))\n",
    "    }\n",
    "\n",
    "    merge_lists = function(lists) {\n",
    "        lists = do.call(rbind,lapply(cbind(lists), unlist))\n",
    "        names = colnames(lists)\n",
    "        lists = lapply(1:ncol(lists), function(i) lists[,i])\n",
    "        names(lists) = names\n",
    "        return(lists)\n",
    "    }\n",
    "\n",
    "    plot_pip = function(x, n_causal, s, output_prefix, xname, yname, xlab, ylab, pip_cutoff = -1, pip_diff_categories = c(0.1, 0.15, 0.2)) {\n",
    "      x = x[x[[xname]] > pip_cutoff & x[[yname]] > pip_cutoff,]\n",
    "      if (pip_cutoff >=0) {\n",
    "          xlab = paste0(xlab, \">\", pip_cutoff)\n",
    "          ylab = paste0(ylab, \">\", pip_cutoff)\n",
    "      }\n",
    "      colors = sapply(1:length(x$is_signal), function(i) ifelse(x$is_signal[i],'#800000','#002b36'))\n",
    "      # compute difference in pip and proportions\n",
    "      pip_diff = abs(x[[xname]] - x[[yname]])\n",
    "      pip_diff_cnts = sapply(pip_diff_categories, function(x) length(which(pip_diff >= x)))\n",
    "      pip_diff_text = vector()\n",
    "      for (i in 1:length(pip_diff_categories)) {\n",
    "          tmp = paste0('- ', pip_diff_cnts[i], '/', length(pip_diff), ' (', formatC(pip_diff_cnts[i] / length(pip_diff) * 100, format = \"e\", digits = 2), '%) differ by ', pip_diff_categories[i])\n",
    "          pip_diff_text = c(pip_diff_text, tmp)\n",
    "      }\n",
    "      pip_diff_text = paste(pip_diff_text, collapse = '\\n')\n",
    "      corr_text = paste('- correlation', round(cor(x)[1,2],2))\n",
    "      header = paste('#', xname, 'vs', yname, s, n_causal, 'causal\\n')\n",
    "      pdf(paste0(output_prefix, '_', n_causal, '.pdf'), width=5, height=5, pointsize=14)\n",
    "      plot(x[[xname]], x[[yname]], xlab = xlab, ylab = ylab,\n",
    "         main = paste0(n_causal, s , ifelse(n_causal>1, ' effect variables', ' effect variable')),\n",
    "         col = colors, pch = 20, cex = 1.4, bty='l')\n",
    "      abline(0,1,col=2)\n",
    "      #abline(h=0.95, col='gray')\n",
    "      #abline(v=0.95, col='gray')\n",
    "      dev.off()\n",
    "      system(paste0(\"convert -flatten -density 120 \", paste0(output_prefix, '_', n_causal, '.pdf'), \" \", paste0(output_prefix, '_', n_causal, '.png')))\n",
    "      write(paste(header, corr_text, pip_diff_text, '\\n', sep = '\\n'), paste0(output_prefix, '_', n_causal, '.md'))\n",
    "    }\n",
    "    result_1 = result[[1]]\n",
    "    result_2 = result[[2]]\n",
    "    result_3 = result[[3]]\n",
    "    result_5 = do.call(rbind, lapply(3:5, function(i) result[[i]][,c('susie','dap', 'is_signal')]))\n",
    "    # susie vs dap\n",
    "    plot_pip(result_1, 1, '', ${_output[0]:nr}, 'susie', 'dap', 'PIP SuSiE', 'PIP DAP-G')\n",
    "    plot_pip(result_2, 2, '', ${_output[0]:nr}, 'susie', 'dap', 'PIP SuSiE', 'PIP DAP-G')\n",
    "    plot_pip(result_5, 3, ' ~ 5', ${_output[0]:nr}, 'susie', 'dap', 'PIP SuSiE', 'PIP DAP-G')\n",
    "    merge_img(${_output[0]:nr}, 3)\n",
    "    # susie vs caviar\n",
    "    plot_pip(result_1, 1, '', ${_output[1]:nr}, 'susie', 'caviar', 'PIP SuSiE', 'PIP CAVIAR')\n",
    "    plot_pip(result_2, 2, '', ${_output[1]:nr}, 'susie', 'caviar', 'PIP SuSiE', 'PIP CAVIAR')\n",
    "    plot_pip(result_3, 3, '', ${_output[1]:nr}, 'susie', 'caviar', 'PIP SuSiE', 'PIP CAVIAR')\n",
    "    merge_img(${_output[1]:nr}, 3)\n",
    "    # susie vs finemap\n",
    "    plot_pip(result_1, 1, '', ${_output[2]:nr}, 'susie', 'finemap', 'PIP SuSiE', 'PIP FINEMAP')\n",
    "    plot_pip(result_2, 2, '', ${_output[2]:nr}, 'susie', 'finemap', 'PIP SuSiE', 'PIP FINEMAP')\n",
    "    plot_pip(result_3, 3, '', ${_output[2]:nr}, 'susie', 'finemap', 'PIP SuSiE', 'PIP FINEMAP')\n",
    "    merge_img(${_output[2]:nr}, 3)\n",
    "    # dap vs caviar\n",
    "    plot_pip(result_1, 1, '', ${_output[3]:nr}, 'dap', 'caviar', 'PIP DAP-G', 'PIP CAVIAR')\n",
    "    plot_pip(result_2, 2, '', ${_output[3]:nr}, 'dap', 'caviar', 'PIP DAP-G', 'PIP CAVIAR')\n",
    "    plot_pip(result_3, 3, '', ${_output[3]:nr}, 'dap', 'caviar', 'PIP DAP-G', 'PIP CAVIAR')\n",
    "    merge_img(${_output[3]:nr}, 3)\n",
    "    # dap vs finemap\n",
    "    plot_pip(result_1, 1, '', ${_output[4]:nr}, 'dap', 'finemap', 'PIP DAP-G', 'PIP FINEMAP')\n",
    "    plot_pip(result_2, 2, '', ${_output[4]:nr}, 'dap', 'finemap', 'PIP DAP-G', 'PIP FINEMAP')\n",
    "    plot_pip(result_3, 3, '', ${_output[4]:nr}, 'dap', 'finemap', 'PIP DAP-G', 'PIP FINEMAP')\n",
    "    merge_img(${_output[4]:nr}, 3)\n",
    "    # caviar vs finemap\n",
    "    plot_pip(result_1, 1, '', ${_output[5]:nr}, 'caviar', 'finemap', 'PIP CAVIAR', 'PIP FINEMAP')\n",
    "    plot_pip(result_2, 2, '', ${_output[5]:nr}, 'caviar', 'finemap', 'PIP CAVIAR', 'PIP FINEMAP')\n",
    "    plot_pip(result_3, 3, '', ${_output[5]:nr}, 'caviar', 'finemap', 'PIP CAVIAR', 'PIP FINEMAP')\n",
    "    merge_img(${_output[5]:nr}, 3)"
   ]
  },
  {
   "cell_type": "code",
   "execution_count": null,
   "metadata": {
    "kernel": "R"
   },
   "outputs": [],
   "source": []
  }
 ],
 "metadata": {
  "kernelspec": {
   "display_name": "SoS",
   "language": "sos",
   "name": "sos"
  },
  "language_info": {
   "codemirror_mode": "sos",
   "file_extension": ".sos",
   "mimetype": "text/x-sos",
   "name": "sos",
   "nbconvert_exporter": "sos_notebook.converter.SoS_Exporter",
   "pygments_lexer": "sos"
  },
  "sos": {
   "kernels": [
    [
     "R",
     "ir",
     "R",
     "#DCDCDA"
    ],
    [
     "SoS",
     "sos",
     "",
     ""
    ]
   ],
   "version": "0.19.8"
  }
 },
 "nbformat": 4,
 "nbformat_minor": 2
}
