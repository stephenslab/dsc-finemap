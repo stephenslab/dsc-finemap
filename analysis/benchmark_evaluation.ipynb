{
 "cells": [
  {
   "cell_type": "markdown",
   "metadata": {
    "kernel": "SoS"
   },
   "source": [
    "# Pipelines to evaluate fine-mapping benchmarks"
   ]
  },
  {
   "cell_type": "markdown",
   "metadata": {},
   "source": [
    "This document contains several workflows to extract results from fine-mapping benchmarks and make plots for (mostly) SuSiE manuscript."
   ]
  },
  {
   "cell_type": "code",
   "execution_count": null,
   "metadata": {
    "kernel": "SoS"
   },
   "outputs": [],
   "source": [
    "[global]\n",
    "parameter: cwd = path('~/GIT/lab-dsc/dsc-finemap')\n",
    "parameter: version = '20190610'\n",
    "# set to 0 to use estimated prior, or another number to use specified prior\n",
    "# as configured in the DSC\n",
    "parameter: susie_prior = [0.1, 0.0]\n",
    "# null weight options to evaluate\n",
    "parameter: null_weight = [0.0]\n",
    "parameter: output_dir = path(f'{cwd:a}/output/susie_paper')\n",
    "\n",
    "def fmtP(x):\n",
    "    return str(x).replace(\".\", \"p\")"
   ]
  },
  {
   "cell_type": "markdown",
   "metadata": {},
   "source": [
    "## Query results"
   ]
  },
  {
   "cell_type": "code",
   "execution_count": null,
   "metadata": {},
   "outputs": [],
   "source": [
    "[*_1]\n",
    "output: f'{output_dir}/result_{version}.rds'\n",
    "R: expand = '${ }', workdir = cwd\n",
    "    dap_out = dscrutils::dscquery(${output_dir:br},\n",
    "                        target = \"small_data.dataset lm_pve02.pve lm_pve02.n_signal score_dap.total score_dap.valid score_dap.size score_dap.avgr2 score_dap.top score_dap.overlap score_dap.singal_pip score_dap.pip\")\n",
    "    susie_out = dscrutils::dscquery(${output_dir:br},\n",
    "                        target = \"small_data.dataset lm_pve02.pve lm_pve02.n_signal susie.prior_var susie.null_weight score_susie.total score_susie.valid score_susie.size score_susie.purity score_susie.top score_susie.objective score_susie.converged score_susie.overlap score_susie.signal_pip score_susie.pip\")\n",
    "    caviar_out = dscrutils::dscquery(${output_dir:br},\n",
    "                        target = \"small_data.dataset lm_pve02.pve lm_pve02.n_signal caviar.args score_caviar.total score_caviar.valid score_caviar.size score_caviar.signal_pip score_caviar.pip\")\n",
    "    finemap_out = dscrutils::dscquery(${output_dir:br},\n",
    "                        target = \"small_data.dataset lm_pve02.pve lm_pve02.n_signal finemap.args score_finemap.total score_finemap.valid score_finemap.size score_finemap.signal_pip score_finemap.pip\")\n",
    "    saveRDS(list(dap=dap_out, susie=susie_out, caviar=caviar_out, finemap=finemap_out), ${_output:r})"
   ]
  },
  {
   "cell_type": "markdown",
   "metadata": {},
   "source": [
    "## PIP calibration"
   ]
  },
  {
   "cell_type": "code",
   "execution_count": null,
   "metadata": {},
   "outputs": [],
   "source": []
  }
 ],
 "metadata": {
  "kernelspec": {
   "display_name": "SoS",
   "language": "sos",
   "name": "sos"
  },
  "language_info": {
   "codemirror_mode": "sos",
   "file_extension": ".sos",
   "mimetype": "text/x-sos",
   "name": "sos",
   "nbconvert_exporter": "sos_notebook.converter.SoS_Exporter",
   "pygments_lexer": "sos"
  },
  "sos": {
   "kernels": [
    [
     "SoS",
     "sos",
     "",
     ""
    ]
   ],
   "version": "0.19.8"
  }
 },
 "nbformat": 4,
 "nbformat_minor": 2
}
