{
 "cells": [
  {
   "cell_type": "markdown",
   "metadata": {
    "kernel": "SoS"
   },
   "source": [
    "# Pipelines to evaluate fine-mapping benchmarks"
   ]
  },
  {
   "cell_type": "markdown",
   "metadata": {},
   "source": [
    "This document contains several workflows to extract results from fine-mapping benchmarks and make plots for (mostly) SuSiE manuscript."
   ]
  },
  {
   "cell_type": "code",
   "execution_count": null,
   "metadata": {
    "kernel": "SoS"
   },
   "outputs": [],
   "source": [
    "[global]\n",
    "parameter: cwd = path('~/GIT/lab-dsc/dsc-finemap')\n",
    "parameter: version = '20190610'\n",
    "# set to 0 to use estimated prior, or another number to use specified prior\n",
    "# as configured in the DSC\n",
    "parameter: susie_prior = [0.1, 0.0]\n",
    "# null weight options to evaluate\n",
    "parameter: null_weight = [0.0]\n",
    "parameter: output_dir = path(f'{cwd:a}/output/susie_paper')\n",
    "\n",
    "def fmtP(x):\n",
    "    return str(x).replace(\".\", \"p\")"
   ]
  },
  {
   "cell_type": "markdown",
   "metadata": {},
   "source": [
    "## Query results"
   ]
  },
  {
   "cell_type": "code",
   "execution_count": null,
   "metadata": {},
   "outputs": [],
   "source": [
    "[*_1]\n",
    "output: f'{output_dir}/susie_paper/result_{version}.rds'\n",
    "R: expand = '${ }', workdir = cwd\n",
    "    dap_out = dscrutils::dscquery(${dirname:br}, \n",
    "                        target = \"liter_data.dataset liter_data lm_less lm_less.pve lm_less.n_signal fit_dap\")\n",
    "    susie_out = dscrutils::dscquery(${dirname:br}, \n",
    "                        target = \"liter_data.dataset liter_data lm_less lm_less.pve lm_less.n_signal fit_susie.prior_var fit_susie.null_weight fit_susie\")\n",
    "    caviar_out = dscrutils::dscquery(${dirname:br}, \n",
    "                        target = \"liter_data.dataset liter_data lm_less lm_less.pve lm_less.n_signal fit_caviar.args fit_caviar\")\n",
    "    finemap_out = dscrutils::dscquery(${dirname:br}, \n",
    "                        target = \"liter_data.dataset liter_data lm_less lm_less.pve lm_less.n_signal fit_finemap.args fit_finemap\")\n",
    "    saveRDS(list(dap=dap_out, susie=susie_out, caviar=caviar_out, finemap=finemap_out), ${_output:r})"
   ]
  },
  {
   "cell_type": "markdown",
   "metadata": {},
   "source": [
    "## PIP calibration"
   ]
  },
  {
   "cell_type": "code",
   "execution_count": null,
   "metadata": {},
   "outputs": [],
   "source": []
  }
 ],
 "metadata": {
  "kernelspec": {
   "display_name": "SoS",
   "language": "sos",
   "name": "sos"
  },
  "language_info": {
   "codemirror_mode": "sos",
   "file_extension": ".sos",
   "mimetype": "text/x-sos",
   "name": "sos",
   "nbconvert_exporter": "sos_notebook.converter.SoS_Exporter",
   "pygments_lexer": "sos"
  },
  "sos": {
   "kernels": [
    [
     "SoS",
     "sos",
     "",
     ""
    ]
   ],
   "version": "0.19.8"
  }
 },
 "nbformat": 4,
 "nbformat_minor": 2
}
