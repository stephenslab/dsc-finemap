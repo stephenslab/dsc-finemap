{
 "cells": [
  {
   "cell_type": "markdown",
   "metadata": {
    "kernel": "SoS"
   },
   "source": [
    "# Pipelines to evaluate fine-mapping benchmarks"
   ]
  },
  {
   "cell_type": "markdown",
   "metadata": {
    "kernel": "SoS"
   },
   "source": [
    "This document contains several workflows to extract results from fine-mapping benchmarks and make plots for (mostly) SuSiE manuscript."
   ]
  },
  {
   "cell_type": "code",
   "execution_count": null,
   "metadata": {
    "kernel": "SoS"
   },
   "outputs": [],
   "source": [
    "[global]\n",
    "parameter: cwd = path('~/GIT/lab-dsc/dsc-finemap')\n",
    "parameter: version = '20190610'\n",
    "# set to 0 to use estimated prior, or another number to use specified prior\n",
    "# as configured in the DSC\n",
    "parameter: susie_prior = [0.1, 0.0]\n",
    "# null weight options to evaluate\n",
    "parameter: null_weight = [0.0]\n",
    "parameter: output_dir = path(f'{cwd:a}/output/susie_paper')\n",
    "parameter: dataset = \"small_data\"\n",
    "parameter: scenario = \"lm_pve02\"\n",
    "\n",
    "def fmtP(x):\n",
    "    return str(x).replace(\".\", \"p\")"
   ]
  },
  {
   "cell_type": "markdown",
   "metadata": {
    "kernel": "SoS"
   },
   "source": [
    "## Query results"
   ]
  },
  {
   "cell_type": "code",
   "execution_count": null,
   "metadata": {
    "kernel": "SoS"
   },
   "outputs": [],
   "source": [
    "[pip_1, cali_1, roc_1, cs_1]\n",
    "depends: R_library('tibble')\n",
    "output: f'{output_dir}/result_{version}.rds'\n",
    "R: expand = '${ }', workdir = cwd\n",
    "    library(tibble)\n",
    "    dap_out = dscrutils::dscquery(${output_dir:r},\n",
    "                        targets = c(\"${dataset}.dataset\", \"${scenario}.meta\", \"${scenario}.n_signal\", \n",
    "                                  \"score_dap.total\", \"score_dap.valid\", \"score_dap.size\", \"score_dap.avgr2\", \n",
    "                                  \"score_dap.top\", \"score_dap.overlap\", \"score_dap.signal_pip\", \"score_dap.pip\"))\n",
    "    susie_out = dscrutils::dscquery(${output_dir:r},\n",
    "                        targets = c(\"${dataset}.dataset\", \"${scenario}.meta\", \"${scenario}.n_signal\", \"susie.prior_var\", \"susie.null_weight\", \n",
    "                                  \"score_susie.total\", \"score_susie.valid\", \"score_susie.size\", \"score_susie.purity\", \"score_susie.avgr2\", \"score_susie.top\", \n",
    "                                  \"score_susie.objective\", \"score_susie.converged\", \"score_susie.overlap\", \"score_susie.signal_pip\", \"score_susie.pip\"))\n",
    "    caviar_out = dscrutils::dscquery(${output_dir:r},\n",
    "                        targets = c(\"${dataset}.dataset\", \"${scenario}.meta\", \"${scenario}.n_signal\", \"caviar_in_sample.args\", \n",
    "                                  \"score_caviar.total\", \"score_caviar.valid\", \"score_caviar.size\", \" score_caviar.signal_pip\", \"score_caviar.pip\"))\n",
    "    finemap_out = dscrutils::dscquery(${output_dir:r},\n",
    "                        targets = c(\"${dataset}.dataset\", \"${scenario}.meta\", \"${scenario}.n_signal\", \"finemap_in_sample.args\", \n",
    "                                  \"score_finemap.total\", \"score_finemap.valid\", \"score_finemap.size\", \"score_finemap.signal_pip\", \"score_finemap.pip\"))\n",
    "    hierinf_out = dscrutils::dscquery(${output_dir:r},\n",
    "                        targets = c(\"${dataset}.dataset\", \"${scenario}.meta\", \"${scenario}.n_signal\", \"hierinf.alpha\",\n",
    "                                  \"score_hierinf.total\", \"score_hierinf.valid\", \"score_hierinf.size\", \"score_hierinf.purity\", \"score_hierinf.avgr2\", \"score_hierinf.overlap\"))\n",
    "    rename_cols = function(dat) {\n",
    "      for (item in names(dat)) {\n",
    "          tmp = strsplit(colnames(dat[[item]]), \"[.]\")\n",
    "          colnames(dat[[item]]) = unlist(lapply(1:length(tmp), function(i) ifelse(length(tmp[[i]])>1, tmp[[i]][2], tmp[[i]][1])))\n",
    "      }\n",
    "      return(dat)\n",
    "    }\n",
    "    # remove module names from column names; this is Okay because every column field here are unique\n",
    "    res = rename_cols(list(dap=as_tibble(dap_out), susie=as_tibble(susie_out), caviar=as_tibble(caviar_out), finemap=as_tibble(finemap_out), hierinf=as_tibble(hierinf_out)))\n",
    "    saveRDS(res, ${_output:r})"
   ]
  },
  {
   "cell_type": "markdown",
   "metadata": {
    "kernel": "SoS"
   },
   "source": [
    "## PIP extraction"
   ]
  },
  {
   "cell_type": "code",
   "execution_count": null,
   "metadata": {
    "kernel": "SoS"
   },
   "outputs": [],
   "source": [
    "[pip_2, cali_2, roc_2]\n",
    "depends: R_library('tibble'), R_library('dplyr')\n",
    "input: for_each = ['susie_prior', 'null_weight']\n",
    "output: f'{_input:n}_prior_{fmtP(_susie_prior)}_null_{fmtP(_null_weight)}.rds'\n",
    "R: stdout = f'{_output:n}.log', expand = '${ }', workdir = cwd\n",
    "    dat = readRDS(${_input:r})\n",
    "    dap_out = dat$dap\n",
    "    caviar_out = dat$caviar\n",
    "    susie_out = dat$susie\n",
    "    finemap_out = dat$finemap\n",
    "    # favorit susie flavor\n",
    "    susie_out = susie_out[which(susie_out$prior_var == ${_susie_prior} & susie_out$null_weight == ${_null_weight}), ]\n",
    "    # and for the rest of the PIP analysis we pool across all data-set\n",
    "    # but we evaluate for each number of signals settings\n",
    "    # PVE is fixed to 0.2 here using `lm_pve02` module\n",
    "    data_sets = unique(susie_out$dataset)\n",
    "    n_signals = unique(susie_out$n_signal)\n",
    "    result = list()\n",
    "    for (s in n_signals) {\n",
    "        result[[as.character(s)]] = NULL\n",
    "        if (s > 3) {\n",
    "            has_caviar = FALSE\n",
    "        } else {\n",
    "            has_caviar = TRUE\n",
    "        }\n",
    "        print(paste('==============', s, '=============='))\n",
    "        for (d in data_sets) {\n",
    "            # should all be one row\n",
    "            susie_row = susie_out[which(susie_out$n_signal == s & susie_out$dataset == d), ]\n",
    "            dap_row = dap_out[which(dap_out$n_signal == s & dap_out$dataset == d), ]\n",
    "            if (nrow(susie_row) != 1 || nrow(dap_row) != 1) stop(\"Rows are not unique for susie & dap\")\n",
    "            if (has_caviar) {\n",
    "              caviar_row = caviar_out[which(caviar_out$n_signal == s & caviar_out$dataset == d & caviar_out$args == paste('-g 0.001 -c', s)), ]\n",
    "              finemap_row = finemap_out[which(finemap_out$n_signal == s & finemap_out$dataset == d & finemap_out$args == paste('--n-causal-max', s)), ]\n",
    "              if (nrow(caviar_row) != 1 || nrow(finemap_row) != 1) stop(\"Rows are not unique for caviar & finemap\")\n",
    "            }\n",
    "            # a slightly awkward yet convenient syntax thanks to tibble format\n",
    "            truth = susie_row$meta[[1]]$true_coef\n",
    "            for (r in 1:ncol(truth)) {\n",
    "              susie_pip = susie_row$pip[[1]][,r]\n",
    "              dap_pip = dap_row$pip[[1]][,r]\n",
    "              if (has_caviar) {\n",
    "                  caviar_pip = caviar_row$pip[[1]][,r]\n",
    "                  finemap_pip = finemap_row$pip[[1]][,r]\n",
    "                  pip = cbind(susie_pip, dap_pip, caviar_pip, finemap_pip, truth[,r] != 0)\n",
    "              } else {\n",
    "                  pip = cbind(susie_pip, dap_pip, truth[,r] != 0)\n",
    "              }\n",
    "              # remove all zero PIP / table\n",
    "              pip = pip[rowSums(pip) > 0, ]\n",
    "              ## BEGIN debug\n",
    "              outlier = pip[which(pip[,1] < 0.1 & pip[,2]>0.6), ,drop=F]\n",
    "              if (nrow(outlier)>0 && s <= 2) {\n",
    "                print(\"DAP outlier\")\n",
    "                print(c(r,d))\n",
    "              }\n",
    "              if (has_caviar && s == 1) {\n",
    "                conflict = pip[which(pip[,1] < 0.95 & pip[,3] > 0.95), ,drop=F]\n",
    "                if (nrow(conflict) > 0) {\n",
    "                    print(\"CAVIAR-susie conflict\")\n",
    "                    print(d)\n",
    "                    print(pip[conflict,])\n",
    "                    print(\"CAVIAR\")\n",
    "                    print(which(caviar_pip>0.95))\n",
    "                    print(\"SuSiE\")\n",
    "                    print(which(susie_pip>0.95))\n",
    "                }\n",
    "                outlier = pip[which(pip[,1] > 0.1 & pip[,3] < 0.1), ,drop=F]\n",
    "                if (nrow(outlier)>0 && s <= 2) {\n",
    "                    print(\"SuSiE outlier\")\n",
    "                    print(c(r,d))\n",
    "                }\n",
    "              }\n",
    "              ## END debug\n",
    "              if (is.null(result[[as.character(s)]])) {\n",
    "                  result[[as.character(s)]] = pip\n",
    "              } else {\n",
    "                  result[[as.character(s)]] = rbind(result[[as.character(s)]], pip)\n",
    "              }\n",
    "           }\n",
    "        }\n",
    "        result[[as.character(s)]] = data.frame(result[[as.character(s)]])\n",
    "        if (has_caviar) {\n",
    "            colnames(result[[as.character(s)]]) = c('susie', 'dap', 'caviar', 'finemap', 'is_signal')\n",
    "        } else {\n",
    "            colnames(result[[as.character(s)]]) = c('susie', 'dap', 'is_signal')\n",
    "        }\n",
    "    }\n",
    "    saveRDS(result, ${_output:r})"
   ]
  },
  {
   "cell_type": "markdown",
   "metadata": {
    "kernel": "SoS"
   },
   "source": [
    "## PIP direct comparison"
   ]
  },
  {
   "cell_type": "code",
   "execution_count": null,
   "metadata": {
    "kernel": "SoS"
   },
   "outputs": [],
   "source": [
    "[pip_3]\n",
    "comparisons = ['susie_vs_dap', 'susie_vs_caviar', 'susie_vs_finemap', 'dap_vs_caviar', 'dap_vs_finemap', 'caviar_vs_finemap']\n",
    "input: group_by = 1, concurrent = True\n",
    "output: paths([f'{_input:n}.{x}.png' for x in comparisons])\n",
    "R: expand = '${ }'\n",
    "    result = readRDS(${_input:r})\n",
    "    merge_img = function(prefix, n) {\n",
    "        files = paste0(prefix, '_', seq(1:n), '.png')\n",
    "        cmd = paste('convert +append', paste(files, collapse=\" \"), paste0(prefix, '.png'))\n",
    "        system(cmd)\n",
    "        system(paste('rm -f', paste(files, collapse=\" \")))\n",
    "        files = paste0(prefix, '_', seq(1:n), '.md')\n",
    "        cmd = paste('cat', paste(files, collapse=\" \"), '>', paste0(prefix, '.md'))\n",
    "        system(cmd)\n",
    "        system(paste('rm -f', paste(files, collapse=\" \")))\n",
    "    }\n",
    "\n",
    "    merge_lists = function(lists) {\n",
    "        lists = do.call(rbind,lapply(cbind(lists), unlist))\n",
    "        names = colnames(lists)\n",
    "        lists = lapply(1:ncol(lists), function(i) lists[,i])\n",
    "        names(lists) = names\n",
    "        return(lists)\n",
    "    }\n",
    "\n",
    "    plot_pip = function(x, n_causal, s, output_prefix, xname, yname, xlab, ylab, pip_cutoff = -1, pip_diff_categories = c(0.1, 0.15, 0.2)) {\n",
    "      x = x[x[[xname]] > pip_cutoff & x[[yname]] > pip_cutoff,]\n",
    "      if (pip_cutoff >=0) {\n",
    "          xlab = paste0(xlab, \">\", pip_cutoff)\n",
    "          ylab = paste0(ylab, \">\", pip_cutoff)\n",
    "      }\n",
    "      colors = sapply(1:length(x$is_signal), function(i) ifelse(x$is_signal[i],'#800000','#002b36'))\n",
    "      # compute difference in pip and proportions\n",
    "      pip_diff = abs(x[[xname]] - x[[yname]])\n",
    "      pip_diff_cnts = sapply(pip_diff_categories, function(x) length(which(pip_diff >= x)))\n",
    "      pip_diff_text = vector()\n",
    "      for (i in 1:length(pip_diff_categories)) {\n",
    "          tmp = paste0('- ', pip_diff_cnts[i], '/', length(pip_diff), ' (', formatC(pip_diff_cnts[i] / length(pip_diff) * 100, format = \"e\", digits = 2), '%) differ by ', pip_diff_categories[i])\n",
    "          pip_diff_text = c(pip_diff_text, tmp)\n",
    "      }\n",
    "      pip_diff_text = paste(pip_diff_text, collapse = '\\n')\n",
    "      corr_text = paste('- correlation', round(cor(x)[1,2],2))\n",
    "      header = paste('#', xname, 'vs', yname, s, n_causal, 'causal\\n')\n",
    "      pdf(paste0(output_prefix, '_', n_causal, '.pdf'), width=5, height=5, pointsize=14)\n",
    "      plot(x[[xname]], x[[yname]], xlab = xlab, ylab = ylab,\n",
    "         main = paste0(n_causal, s , ifelse(n_causal>1, ' effect variables', ' effect variable')),\n",
    "         col = colors, pch = 20, cex = 1.4, bty='l')\n",
    "      abline(0,1,col=2)\n",
    "      #abline(h=0.95, col='gray')\n",
    "      #abline(v=0.95, col='gray')\n",
    "      dev.off()\n",
    "      system(paste0(\"convert -flatten -density 120 \", paste0(output_prefix, '_', n_causal, '.pdf'), \" \", paste0(output_prefix, '_', n_causal, '.png')))\n",
    "      write(paste(header, corr_text, pip_diff_text, '\\n', sep = '\\n'), paste0(output_prefix, '_', n_causal, '.md'))\n",
    "    }\n",
    "    result_1 = result[[1]]\n",
    "    result_2 = result[[2]]\n",
    "    result_3 = result[[3]]\n",
    "    result_5 = do.call(rbind, lapply(3:5, function(i) result[[i]][,c('susie','dap', 'is_signal')]))\n",
    "    # susie vs dap\n",
    "    plot_pip(result_1, 1, '', ${_output[0]:nr}, 'susie', 'dap', 'PIP SuSiE', 'PIP DAP-G')\n",
    "    plot_pip(result_2, 2, '', ${_output[0]:nr}, 'susie', 'dap', 'PIP SuSiE', 'PIP DAP-G')\n",
    "    plot_pip(result_5, 3, ' ~ 5', ${_output[0]:nr}, 'susie', 'dap', 'PIP SuSiE', 'PIP DAP-G')\n",
    "    merge_img(${_output[0]:nr}, 3)\n",
    "    # susie vs caviar\n",
    "    plot_pip(result_1, 1, '', ${_output[1]:nr}, 'susie', 'caviar', 'PIP SuSiE', 'PIP CAVIAR')\n",
    "    plot_pip(result_2, 2, '', ${_output[1]:nr}, 'susie', 'caviar', 'PIP SuSiE', 'PIP CAVIAR')\n",
    "    plot_pip(result_3, 3, '', ${_output[1]:nr}, 'susie', 'caviar', 'PIP SuSiE', 'PIP CAVIAR')\n",
    "    merge_img(${_output[1]:nr}, 3)\n",
    "    # susie vs finemap\n",
    "    plot_pip(result_1, 1, '', ${_output[2]:nr}, 'susie', 'finemap', 'PIP SuSiE', 'PIP FINEMAP')\n",
    "    plot_pip(result_2, 2, '', ${_output[2]:nr}, 'susie', 'finemap', 'PIP SuSiE', 'PIP FINEMAP')\n",
    "    plot_pip(result_3, 3, '', ${_output[2]:nr}, 'susie', 'finemap', 'PIP SuSiE', 'PIP FINEMAP')\n",
    "    merge_img(${_output[2]:nr}, 3)\n",
    "    # dap vs caviar\n",
    "    plot_pip(result_1, 1, '', ${_output[3]:nr}, 'dap', 'caviar', 'PIP DAP-G', 'PIP CAVIAR')\n",
    "    plot_pip(result_2, 2, '', ${_output[3]:nr}, 'dap', 'caviar', 'PIP DAP-G', 'PIP CAVIAR')\n",
    "    plot_pip(result_3, 3, '', ${_output[3]:nr}, 'dap', 'caviar', 'PIP DAP-G', 'PIP CAVIAR')\n",
    "    merge_img(${_output[3]:nr}, 3)\n",
    "    # dap vs finemap\n",
    "    plot_pip(result_1, 1, '', ${_output[4]:nr}, 'dap', 'finemap', 'PIP DAP-G', 'PIP FINEMAP')\n",
    "    plot_pip(result_2, 2, '', ${_output[4]:nr}, 'dap', 'finemap', 'PIP DAP-G', 'PIP FINEMAP')\n",
    "    plot_pip(result_3, 3, '', ${_output[4]:nr}, 'dap', 'finemap', 'PIP DAP-G', 'PIP FINEMAP')\n",
    "    merge_img(${_output[4]:nr}, 3)\n",
    "    # caviar vs finemap\n",
    "    plot_pip(result_1, 1, '', ${_output[5]:nr}, 'caviar', 'finemap', 'PIP CAVIAR', 'PIP FINEMAP')\n",
    "    plot_pip(result_2, 2, '', ${_output[5]:nr}, 'caviar', 'finemap', 'PIP CAVIAR', 'PIP FINEMAP')\n",
    "    plot_pip(result_3, 3, '', ${_output[5]:nr}, 'caviar', 'finemap', 'PIP CAVIAR', 'PIP FINEMAP')\n",
    "    merge_img(${_output[5]:nr}, 3)"
   ]
  },
  {
   "cell_type": "markdown",
   "metadata": {
    "kernel": "R"
   },
   "source": [
    "## PIP calibration"
   ]
  },
  {
   "cell_type": "code",
   "execution_count": null,
   "metadata": {
    "kernel": "SoS"
   },
   "outputs": [],
   "source": [
    "[cali_3]\n",
    "bin_size = 20    \n",
    "pip_cutoff = 0\n",
    "input: concurrent = True\n",
    "output: f'{_input:n}.calibration.rds'\n",
    "R: stdout = f'{_output:n}.log', expand = '${ }', workdir = cwd\n",
    "    dat = readRDS(${_input:r})\n",
    "    pip_cali = list()\n",
    "    bins = cbind(seq(1:${bin_size})/${bin_size}-1/${bin_size}, seq(1:${bin_size})/${bin_size})\n",
    "    for (s in 1:length(dat)) {\n",
    "          res = dat[[as.character(s)]]\n",
    "          pip_cali[[as.character(s)]] = list()\n",
    "          for (name in rev(colnames(res))[-1]) {\n",
    "              for (i in 1:nrow(bins)) {\n",
    "                  tmp = res[which(res[[name]] > bins[i,1] & res[[name]] < bins[i,2]),]\n",
    "                  if (is.null(pip_cali[[as.character(s)]][[name]])) pip_cali[[as.character(s)]][[name]] = c(sum(tmp[[name]]), sum(tmp$is_signal), length(tmp$is_signal))\n",
    "                  else pip_cali[[as.character(s)]][[name]] = rbind(pip_cali[[as.character(s)]][[name]], c(sum(tmp[[name]]), sum(tmp$is_signal), length(tmp$is_signal)))\n",
    "              }\n",
    "              pip_cali[[as.character(s)]][[name]][which(is.na(pip_cali[[as.character(s)]][[name]]))] = 0\n",
    "          }\n",
    "    }\n",
    "    get_cali = function(alist, col) {\n",
    "      res = alist[[1]][[col]]\n",
    "      for (i in 2:length(alist)) {\n",
    "          if (!is.null(alist[[i]][[col]])) res = res + alist[[i]][[col]]\n",
    "      }\n",
    "      res[,c(1,2)] = res[,c(1,2)] / res[,3]\n",
    "      return(res[-1,])\n",
    "    }\n",
    "    saveRDS(list(\"SuSiE\"=get_cali(pip_cali, 'susie'), \n",
    "                  \"DAP-G\"=get_cali(pip_cali, 'dap'), \n",
    "                  \"CAVIAR\"=get_cali(pip_cali, 'caviar'), \n",
    "                  \"FINEMAP\"=get_cali(pip_cali, 'finemap')), \n",
    "                  ${_output:r})"
   ]
  },
  {
   "cell_type": "code",
   "execution_count": null,
   "metadata": {
    "kernel": "SoS"
   },
   "outputs": [],
   "source": [
    "[cali_4]\n",
    "depends: executable('convert')\n",
    "input: concurrent = True\n",
    "output: f'{_input:n}.png'\n",
    "R: stdout = f'{_output:n}.log', expand = '${ }', workdir = cwd\n",
    "    library(ggplot2)\n",
    "    library(cowplot)\n",
    "    dot_plot = function(dataframe) {\n",
    "        ggplot(dataframe, aes(x=mean_pip, y=observed_freq)) + \n",
    "          geom_errorbar(aes(ymin=observed_freq-se, ymax=observed_freq+se), colour=\"gray\", size = 0.2, width=.01) +\n",
    "          geom_point(size=1.5, shape=21, fill=\"#002b36\") + # 21 is filled circle\n",
    "          xlab(\"Mean PIP\") +\n",
    "          ylab(\"Observed frequency\") +\n",
    "          coord_cartesian(ylim=c(0,1), xlim=c(0,1)) +\n",
    "          geom_abline(slope=1,intercept=0,colour='red', size=0.2) +\n",
    "          ggtitle(name) +\n",
    "          expand_limits(y=0) +                        # Expand y range\n",
    "          theme_cowplot()\n",
    "    }\n",
    "\n",
    "    dat = readRDS(${_input:r})\n",
    "    idx = 0\n",
    "    for (name in names(dat)) {\n",
    "      idx = idx + 1\n",
    "      dat[[name]][,3] = sqrt(dat[[name]][,2] * (1 - dat[[name]][,2]) / dat[[name]][,3]) * 2\n",
    "      dat[[name]] = as.data.frame(dat[[name]])\n",
    "      colnames(dat[[name]]) = c(\"mean_pip\", \"observed_freq\", \"se\")\n",
    "      pdf(paste0(${_output:nr}, '_' , idx, '.pdf'), width=3, height=3, pointsize=16)\n",
    "      print(dot_plot(dat[[name]]))\n",
    "      dev.off()\n",
    "      system(paste0(\"convert -density 120 \", ${_output:nr}, '_' , idx, '.pdf', \" \", ${_output:nr}, '_' , idx, '.png'))\n",
    "    }\n",
    "    files = paste0(${_output:nr}, '_', seq(1:idx), '.png')\n",
    "    cmd = paste('convert +append', paste(files, collapse=\" \"), ${_output:r})\n",
    "    system(cmd)\n",
    "    system(paste('rm -f', paste(files, collapse=\" \")))"
   ]
  },
  {
   "cell_type": "code",
   "execution_count": 1,
   "metadata": {
    "kernel": "SoS"
   },
   "outputs": [],
   "source": [
    "%preview /home/gaow/GIT/lab-dsc/dsc-finemap/output/susie_paper/result_20190610_prior_0p1_null_0p0.calibration.png"
   ]
  },
  {
   "cell_type": "markdown",
   "metadata": {
    "kernel": "SoS"
   },
   "source": [
    "## ROC based on PIP "
   ]
  },
  {
   "cell_type": "code",
   "execution_count": null,
   "metadata": {
    "kernel": "SoS"
   },
   "outputs": [],
   "source": [
    "[roc_3]\n",
    "pip_cutoff = 0.3\n",
    "dap_cluster_cutoff = ('cluster_prob', 0.95)\n",
    "input: concurrent = True\n",
    "output: f'{_input:n}.roc_two.rds', f'{_input:n}.roc_all.rds'\n",
    "R: stdout = f'{_output[0]:n}.log', expand = '${ }', workdir = cwd\n",
    "    roc_data = function(d1, cutoff = c(${pip_cutoff}, 1), connect_org = TRUE) {\n",
    "        grid = 500\n",
    "        ttv = seq(1:grid)/grid\n",
    "        ttv = ttv[which(ttv>=cutoff[1] & ttv<=cutoff[2])]\n",
    "        # see SuSiE-Manuscript issue 2\n",
    "        d1 = d1[order(d1[,1]), ]\n",
    "        end = tail(d1[which(d1[,2] == 0),][,1],1)\n",
    "        ttv = c(ttv[-length(ttv)], min(ttv[length(ttv)], end))\n",
    "        # end of issue 2\n",
    "        rst1 = t(sapply(ttv, function(x) c(sum(d1[,2][d1[,1]>=x]), length(d1[,2][d1[,1]>=x]))))\n",
    "        rst1 = cbind(rst1, sum(d1[,2]))\n",
    "        if (connect_org) {\n",
    "            # connect to origin\n",
    "            last_row = tail(rst1, 1)\n",
    "            rst1 = rbind(rst1, c(last_row[1], last_row[2]-1, last_row[3]), c(0.001,0.001,last_row[3]))\n",
    "        }\n",
    "        rst1 = as.data.frame(rst1)\n",
    "        colnames(rst1) = c('true_positive', 'total_positive', 'total_signal')\n",
    "        if (connect_org) {\n",
    "            rst2 = as.data.frame(cbind(rst1$true_positive / rst1$total_positive, rst1$true_positive / rst1$total_signal,  c(ttv, ttv[length(ttv)], 1)))\n",
    "        } else {\n",
    "            rst2 = as.data.frame(cbind(rst1$true_positive / rst1$total_positive, rst1$true_positive / rst1$total_signal,  ttv))\n",
    "        }\n",
    "        colnames(rst2) = c('Precision', 'Recall', 'Threshold')\n",
    "        return(list(counts = rst1, rates = rst2))\n",
    "    }\n",
    "    \n",
    "    print(\"Computing ROC data ...\")\n",
    "    result = readRDS(${_input:r})\n",
    "    susie = roc_data(do.call(rbind, lapply(1:length(result), function(i) cbind(result[[i]]$susie, result[[i]]$is_signal))))\n",
    "    dap = roc_data(do.call(rbind, lapply(1:length(result), function(i) cbind(result[[i]]$dap, result[[i]]$is_signal))), cutoff = c(${pip_cutoff}, 0.9999), connect_org = FALSE) # DAP output format has numerical artifect\n",
    "    saveRDS(list(susie = susie, dap = dap), ${_output[0]:r})\n",
    "    #\n",
    "    susie = roc_data(do.call(rbind, lapply(1:3, function(i) cbind(result[[i]]$susie, result[[i]]$is_signal))))\n",
    "    dap = roc_data(do.call(rbind, lapply(1:3, function(i) cbind(result[[i]]$dap, result[[i]]$is_signal))), cutoff = c(${pip_cutoff}, 0.9999), connect_org = FALSE)\n",
    "    caviar = roc_data(do.call(rbind, lapply(1:3, function(i) cbind(result[[i]]$caviar, result[[i]]$is_signal))))\n",
    "    finemap = roc_data(do.call(rbind, lapply(1:3, function(i) cbind(result[[i]]$finemap, result[[i]]$is_signal))))\n",
    "    saveRDS(list(susie=susie, dap=dap, finemap=finemap, caviar=caviar), ${_output[1]:r})"
   ]
  },
  {
   "cell_type": "code",
   "execution_count": null,
   "metadata": {
    "kernel": "SoS"
   },
   "outputs": [],
   "source": [
    "[roc_4]\n",
    "chunks = 0\n",
    "smooth = 'FALSE'\n",
    "opt1 = \"lwd = 2, xlim = c(0,0.2), ylim = c(0,0.2)\"\n",
    "opt2 = \"lwd = 2, xlim = c(0,0.3), ylim = c(0,0.3)\"\n",
    "input: group_by = 2, concurrent = True\n",
    "output: f'{_input[0]:nn}.roc.png'\n",
    "R: expand = '${ }'\n",
    "    colors = c('#A60628', '#7A68A6', '#348ABD', '#467821', '#FF0000', '#188487', '#E2A233',\n",
    "                  '#A9A9A9', '#000000', '#FF00FF', '#FFD700', '#ADFF2F', '#00FFFF')\n",
    "    d1 = readRDS(${_input[0]:r})\n",
    "    d2 = readRDS(${_input[1]:r})\n",
    "    library(scam)\n",
    "    create_chunks = function(item, n) {\n",
    "      splitted = suppressWarnings(split(item, 1:n))\n",
    "      return(c(splitted[[1]], splitted[[length(splitted)]][length(splitted[[length(splitted)]])]))\n",
    "    }\n",
    "    make_smooth = function(x,y,subset=${chunks}, smooth = ${smooth}) {\n",
    "      if (smooth) {\n",
    "          if (subset < length(x) && subset > 0) {\n",
    "              x = create_chunks(x, subset)\n",
    "              y = create_chunks(y, subset)\n",
    "          }\n",
    "          dat = data.frame(cbind(x,y))\n",
    "          colnames(dat) = c('x','y')\n",
    "          y=predict(scam(y ~ s(x, bs = \"mpi\"), data = dat))\n",
    "      }\n",
    "      return(list(x=x,y=y))\n",
    "    }\n",
    "    add_text = function(thresholds, x, y, threshold, color, delta = 0.015) {\n",
    "        idx = which(thresholds == threshold)\n",
    "        text(x[idx] - delta, y[idx], labels = threshold, col = color)\n",
    "        points(x[idx],y[idx])\n",
    "    }\n",
    "    pdf(\"${_output:n}.part1.pdf\", width=5, height=5, pointsize=15)\n",
    "    yy = make_smooth(1 - d1$susie$rates$Precision, d1$susie$rates$Recall)\n",
    "    plot(yy$x, yy$y, t=\"l\", col=colors[1], ylab = \"power\", xlab =\"FDR\", main = \"1 ~ 5 effect variables\", bty='l', ${opt1})\n",
    "    add_text(d1$susie$rates$Threshold, yy$x, yy$y, 0.9, colors[1])\n",
    "    add_text(d1$susie$rates$Threshold, yy$x, yy$y, 0.95, colors[1])\n",
    "    # lines(1 - d2$susie$rates$Precision, d2$susie$rates$Recall, col=colors[2])\n",
    "    yy = make_smooth(1 - d1$dap$rates$Precision, d1$dap$rates$Recall)\n",
    "    lines(yy$x, yy$y, col=colors[3], ${opt1})\n",
    "    add_text(d1$dap$rates$Threshold, yy$x, yy$y, 0.9, colors[3], -0.015)\n",
    "    add_text(d1$dap$rates$Threshold, yy$x, yy$y, 0.95, colors[3], -0.015)\n",
    "    # legend(\"bottomright\", legend=c(\"SuSiE\", \"SuSiE (penalized)\", \"DAP-G\"),\n",
    "    legend(\"bottomright\", legend=c(\"SuSiE\", \"DAP-G\"),\n",
    "       col=colors[c(1,3)], lty=c(1,1,1), cex=0.8)\n",
    "    dev.off()\n",
    "    system(paste0(\"convert -density 120 \", ${_output:nr}, '.part1.pdf', \" \", ${_output:nr}, '.part1.png'))\n",
    "    pdf(\"${_output:n}.part2.pdf\", width=5, height=5, pointsize=15)\n",
    "    yy = make_smooth(1 - d2$susie$rates$Precision, d2$susie$rates$Recall)\n",
    "    plot(yy$x, yy$y, t=\"l\", \n",
    "     col=colors[1], ylab = \"power\", xlab =\"FDR\", \n",
    "     main = \"1 ~ 3 effect variables\", bty='l', ${opt2})\n",
    "    yy = make_smooth(1 - d2$dap$rates$Precision, d2$dap$rates$Recall)\n",
    "    lines(yy$x, yy$y,col=colors[3], ${opt2})\n",
    "    yy = make_smooth(1 - d2$caviar$rates$Precision, d2$caviar$rates$Recall)\n",
    "    lines(yy$x, yy$y,col=colors[4], ${opt2})\n",
    "    yy = make_smooth(1 - d2$finemap$rates$Precision, d2$finemap$rates$Recall)\n",
    "    lines(yy$x, yy$y,col=colors[7], ${opt2})\n",
    "    legend(\"bottomright\", legend=c(\"SuSiE\", \"DAP-G\", \"CAVIAR\", \"FINEMAP\"),\n",
    "       col=c(colors[1], colors[3], colors[4], colors[7]), lty=c(1,1,1), cex=0.8)\n",
    "    dev.off()\n",
    "    system(paste0(\"convert -density 120 \", ${_output:nr}, '.part2.pdf', \" \", ${_output:nr}, '.part2.png'))\n",
    "  \n",
    "bash: expand = True\n",
    "  convert +append {_output:n}.part1.png {_output:n}.part2.png {_output:n}.png"
   ]
  },
  {
   "cell_type": "code",
   "execution_count": 2,
   "metadata": {
    "kernel": "SoS"
   },
   "outputs": [
    {
     "data": {
      "text/html": [
       "<div class=\"sos_hint\">> /home/gaow/GIT/lab-dsc/dsc-finemap/output/susie_paper/result_20190610_prior_0p1_null_0p0.roc_two.roc.png (39.9 KiB):</div>"
      ],
      "text/plain": [
       "\n",
       "> /home/gaow/GIT/lab-dsc/dsc-finemap/output/susie_paper/result_20190610_prior_0p1_null_0p0.roc_two.roc.png (39.9 KiB):"
      ]
     },
     "metadata": {},
     "output_type": "display_data"
    },
    {
     "data": {
      "image/png": "[encoded data removed]"
     },
     "metadata": {
      "image/png": {}
     },
     "output_type": "display_data"
    }
   ],
   "source": [
    "%preview /home/gaow/GIT/lab-dsc/dsc-finemap/output/susie_paper/result_20190610_prior_0p1_null_0p0.roc.png"
   ]
  },
  {
   "cell_type": "code",
   "execution_count": 3,
   "metadata": {
    "kernel": "SoS"
   },
   "outputs": [
    {
     "data": {
      "text/html": [
       "<div class=\"sos_hint\">> /home/gaow/GIT/lab-dsc/dsc-finemap/output/susie_paper/result_20190610_prior_0p0_null_0p0.roc_two.roc.png (39.9 KiB):</div>"
      ],
      "text/plain": [
       "\n",
       "> /home/gaow/GIT/lab-dsc/dsc-finemap/output/susie_paper/result_20190610_prior_0p0_null_0p0.roc_two.roc.png (39.9 KiB):"
      ]
     },
     "metadata": {},
     "output_type": "display_data"
    },
    {
     "data": {
      "image/png": "[encoded data removed]"
     },
     "metadata": {
      "image/png": {}
     },
     "output_type": "display_data"
    }
   ],
   "source": [
    "%preview /home/gaow/GIT/lab-dsc/dsc-finemap/output/susie_paper/result_20190610_prior_0p0_null_0p0.roc.png"
   ]
  },
  {
   "cell_type": "markdown",
   "metadata": {
    "kernel": "SoS"
   },
   "source": [
    "## CS comparison"
   ]
  },
  {
   "cell_type": "code",
   "execution_count": null,
   "metadata": {
    "kernel": "SoS"
   },
   "outputs": [],
   "source": [
    "# Power analysis of CS\n",
    "[cs_2]\n",
    "hierinf_fwer = [0.01, 0.05, 0.1]\n",
    "input: for_each = ['hierinf_fwer', 'null_weight', 'susie_prior']\n",
    "output: f'{_input:n}_CS_hierinf_fwer_{_hierinf_fwer}_susie_prior_{fmtP(_susie_prior)}_null_{fmtP(_null_weight)}.rds'\n",
    "R: stdout = f'{_output:n}.log', expand = '${ }', workdir = cwd\n",
    " dat = readRDS(${_input:r})\n",
    "    dap_out = dat$dap\n",
    "    susie_out = dat$susie\n",
    "    hierinf_out = dat$hierinf\n",
    "    susie_out = susie_out[which(susie_out$prior_var == ${_susie_prior} & susie_out$null_weight == ${_null_weight}), ]\n",
    "    hierinf_out = hierinf_out[which(hierinf_out$alpha == ${_hierinf_fwer}), ]\n",
    "    data_sets = unique(susie_out$dataset)\n",
    "    n_signals = unique(susie_out$n_signal)\n",
    "    n_r = 2\n",
    "    n_experiments = n_r * length(data_sets)\n",
    "    result = NULL\n",
    "    for (s in n_signals) {\n",
    "        # I cannot find a good median tracker so do it stupid way: save all and take median later\n",
    "        susie_sizes = dap_sizes = hierinf_sizes = vector()\n",
    "        # do the same for mean ...\n",
    "        susie_avg_ld = dap_avg_ld = hierinf_avg_ld = vector()\n",
    "        susie_valid = dap_valid = hierinf_valid = 0\n",
    "        susie_total = dap_total = hierinf_total = 0\n",
    "        susie_expected = dap_expected = hierinf_expected = 0\n",
    "        # for debug\n",
    "        susie_overlap = dap_overlap = hierinf_overlap = 0\n",
    "        for (d in data_sets) {\n",
    "            # should all be one row\n",
    "            susie_row = susie_out[which(susie_out$n_signal == s & susie_out$dataset == d), ]\n",
    "            dap_row = dap_out[which(dap_out$n_signal == s & dap_out$dataset == d), ]\n",
    "            hierinf_row = hierinf_out[which(hierinf_out$n_signal == s & hierinf_out$dataset == d), ]\n",
    "            #\n",
    "            susie_total = susie_total + sum(unlist(susie_row$total))\n",
    "            susie_valid = susie_valid + sum(unlist(susie_row$valid))\n",
    "            susie_sizes = c(susie_sizes, unlist(susie_row$size))\n",
    "            susie_avg_ld = c(susie_avg_ld, unlist(susie_row$avgr2))\n",
    "            susie_overlap = susie_overlap + sum(unlist(susie_row$overlap))\n",
    "            susie_expected = susie_expected + s * length(unlist(susie_row$total))\n",
    "            #\n",
    "            dap_total = dap_total + sum(unlist(dap_row$total))\n",
    "            dap_valid = dap_valid + sum(unlist(dap_row$valid))\n",
    "            dap_sizes = c(dap_sizes, unlist(dap_row$size))\n",
    "            dap_avg_ld = c(dap_avg_ld, unlist(dap_row$avgr2))\n",
    "            dap_overlap = dap_overlap + sum(unlist(dap_row$overlap))\n",
    "            dap_expected = dap_expected + s * length(unlist(dap_row$total))\n",
    "            #\n",
    "            hierinf_total = hierinf_total + sum(unlist(hierinf_row$total))\n",
    "            hierinf_valid = hierinf_valid + sum(unlist(hierinf_row$valid))\n",
    "            hierinf_sizes = c(hierinf_sizes, unlist(hierinf_row$size))\n",
    "            hierinf_avg_ld = c(hierinf_avg_ld, unlist(hierinf_row$avgr2))\n",
    "            hierinf_overlap = hierinf_overlap + sum(unlist(hierinf_row$overlap))\n",
    "            hierinf_expected = hierinf_expected + s * length(unlist(hierinf_row$total))\n",
    "            #\n",
    "        }\n",
    "        rates = c(s, susie_total, dap_total, hierinf_total, susie_valid/susie_expected, dap_valid/dap_expected, hierinf_valid/hierinf_expected, susie_valid/susie_total, dap_valid/dap_total, hierinf_valid/hierinf_total, median(susie_sizes), median(dap_sizes), median(hierinf_sizes), mean(susie_avg_ld,na.rm=T), mean(dap_avg_ld), mean(hierinf_avg_ld,na.rm=T), susie_overlap, dap_overlap, hierinf_overlap)\n",
    "        if (is.null(result)) {\n",
    "          result = rates\n",
    "        } else {\n",
    "          result = rbind(result, rates)\n",
    "        }\n",
    "    }\n",
    "    colnames(result) = c('n_signal', 'susie_discoveries', 'dap_discoveries', 'hierinf_discoveries', 'susie_power', 'dap_power', 'hierinf_power', 'susie_coverage', 'dap_coverage', 'hierinf_coverage', 'susie_median_size', 'dap_median_size', 'hierinf_median_size', 'susie_avg_ld', 'dap_avg_ld', 'hierinf_avg_ld', 'susie_overlap', 'dap_overlap', 'hierinf_overlap')\n",
    "    rownames(result) = as.character(result[,1])\n",
    "    saveRDS(data.frame(result), ${_output:r})"
   ]
  },
  {
   "cell_type": "code",
   "execution_count": 29,
   "metadata": {
    "kernel": "R"
   },
   "outputs": [
    {
     "data": {
      "text/html": [
       "<table>\n",
       "<thead><tr><th scope=col>n_signal</th><th scope=col>hierinf_power</th><th scope=col>hierinf_coverage</th><th scope=col>hierinf_median_size</th><th scope=col>hierinf_avg_ld</th></tr></thead>\n",
       "<tbody>\n",
       "\t<tr><td>1        </td><td>0.9638158</td><td>0.9451613</td><td> 20.5    </td><td>0.6827317</td></tr>\n",
       "\t<tr><td>2        </td><td>0.5049342</td><td>0.9746032</td><td> 48.0    </td><td>0.5711423</td></tr>\n",
       "\t<tr><td>3        </td><td>0.3453947</td><td>0.9692308</td><td> 90.0    </td><td>0.5049821</td></tr>\n",
       "\t<tr><td>4        </td><td>0.2541118</td><td>0.9478528</td><td>113.0    </td><td>0.4598012</td></tr>\n",
       "\t<tr><td>5        </td><td>0.2072368</td><td>0.9633028</td><td>238.0    </td><td>0.3946175</td></tr>\n",
       "</tbody>\n",
       "</table>\n"
      ],
      "text/latex": [
       "\\begin{tabular}{r|lllll}\n",
       " n\\_signal & hierinf\\_power & hierinf\\_coverage & hierinf\\_median\\_size & hierinf\\_avg\\_ld\\\\\n",
       "\\hline\n",
       "\t 1         & 0.9638158 & 0.9451613 &  20.5     & 0.6827317\\\\\n",
       "\t 2         & 0.5049342 & 0.9746032 &  48.0     & 0.5711423\\\\\n",
       "\t 3         & 0.3453947 & 0.9692308 &  90.0     & 0.5049821\\\\\n",
       "\t 4         & 0.2541118 & 0.9478528 & 113.0     & 0.4598012\\\\\n",
       "\t 5         & 0.2072368 & 0.9633028 & 238.0     & 0.3946175\\\\\n",
       "\\end{tabular}\n"
      ],
      "text/markdown": [
       "\n",
       "n_signal | hierinf_power | hierinf_coverage | hierinf_median_size | hierinf_avg_ld | \n",
       "|---|---|---|---|---|\n",
       "| 1         | 0.9638158 | 0.9451613 |  20.5     | 0.6827317 | \n",
       "| 2         | 0.5049342 | 0.9746032 |  48.0     | 0.5711423 | \n",
       "| 3         | 0.3453947 | 0.9692308 |  90.0     | 0.5049821 | \n",
       "| 4         | 0.2541118 | 0.9478528 | 113.0     | 0.4598012 | \n",
       "| 5         | 0.2072368 | 0.9633028 | 238.0     | 0.3946175 | \n",
       "\n",
       "\n"
      ],
      "text/plain": [
       "  n_signal hierinf_power hierinf_coverage hierinf_median_size hierinf_avg_ld\n",
       "1 1        0.9638158     0.9451613         20.5               0.6827317     \n",
       "2 2        0.5049342     0.9746032         48.0               0.5711423     \n",
       "3 3        0.3453947     0.9692308         90.0               0.5049821     \n",
       "4 4        0.2541118     0.9478528        113.0               0.4598012     \n",
       "5 5        0.2072368     0.9633028        238.0               0.3946175     "
      ]
     },
     "metadata": {},
     "output_type": "display_data"
    }
   ],
   "source": [
    "hierinf_result = readRDS('/home/gaow/GIT/lab-dsc/dsc-finemap/output/susie_paper/result_20190610_CS_hierinf_fwer_0.01_susie_prior_0p1_null_0p0.rds')[,c(1,7,10,13,16)]\n",
    "hierinf_result"
   ]
  },
  {
   "cell_type": "markdown",
   "metadata": {
    "kernel": "SoS"
   },
   "source": [
    "It [does not look as good as SuSiE and DAP](https://stephenslab.github.io/susie-paper/manuscript_results/numerical_results.html#Result)."
   ]
  },
  {
   "cell_type": "code",
   "execution_count": 28,
   "metadata": {
    "kernel": "R"
   },
   "outputs": [
    {
     "data": {
      "text/html": [
       "<table>\n",
       "<thead><tr><th scope=col>n_signal</th><th scope=col>susie_power</th><th scope=col>dap_power</th><th scope=col>susie_coverage</th><th scope=col>dap_coverage</th><th scope=col>susie_avg_size</th><th scope=col>dap_avg_size</th><th scope=col>susie_median_size</th><th scope=col>dap_median_size</th><th scope=col>susie_avg_ld</th><th scope=col>dap_avg_ld</th></tr></thead>\n",
       "<tbody>\n",
       "\t<tr><td>1        </td><td>0.9866667</td><td>0.8866667</td><td>0.9801325</td><td>0.9851852</td><td>11.44257 </td><td> 6.056391</td><td>3        </td><td>3        </td><td>0.9937229</td><td>0.9882739</td></tr>\n",
       "\t<tr><td>2        </td><td>0.6716667</td><td>0.6016667</td><td>0.9503546</td><td>0.9181586</td><td>18.62189 </td><td> 8.105850</td><td>4        </td><td>5        </td><td>0.9863083</td><td>0.9712244</td></tr>\n",
       "\t<tr><td>3        </td><td>0.5222222</td><td>0.4866667</td><td>0.9290061</td><td>0.9123932</td><td>18.05022 </td><td>10.435597</td><td>6        </td><td>7        </td><td>0.9807993</td><td>0.9607073</td></tr>\n",
       "\t<tr><td>4        </td><td>0.4516667</td><td>0.4033333</td><td>0.9207746</td><td>0.8943396</td><td>17.86424 </td><td>11.149789</td><td>6        </td><td>8        </td><td>0.9786782</td><td>0.9485908</td></tr>\n",
       "\t<tr><td>5        </td><td>0.3653333</td><td>0.3233333</td><td>0.9033392</td><td>0.8724203</td><td>22.06809 </td><td>12.324731</td><td>7        </td><td>9        </td><td>0.9748869</td><td>0.9503371</td></tr>\n",
       "</tbody>\n",
       "</table>\n"
      ],
      "text/latex": [
       "\\begin{tabular}{r|lllllllllll}\n",
       " n\\_signal & susie\\_power & dap\\_power & susie\\_coverage & dap\\_coverage & susie\\_avg\\_size & dap\\_avg\\_size & susie\\_median\\_size & dap\\_median\\_size & susie\\_avg\\_ld & dap\\_avg\\_ld\\\\\n",
       "\\hline\n",
       "\t 1         & 0.9866667 & 0.8866667 & 0.9801325 & 0.9851852 & 11.44257  &  6.056391 & 3         & 3         & 0.9937229 & 0.9882739\\\\\n",
       "\t 2         & 0.6716667 & 0.6016667 & 0.9503546 & 0.9181586 & 18.62189  &  8.105850 & 4         & 5         & 0.9863083 & 0.9712244\\\\\n",
       "\t 3         & 0.5222222 & 0.4866667 & 0.9290061 & 0.9123932 & 18.05022  & 10.435597 & 6         & 7         & 0.9807993 & 0.9607073\\\\\n",
       "\t 4         & 0.4516667 & 0.4033333 & 0.9207746 & 0.8943396 & 17.86424  & 11.149789 & 6         & 8         & 0.9786782 & 0.9485908\\\\\n",
       "\t 5         & 0.3653333 & 0.3233333 & 0.9033392 & 0.8724203 & 22.06809  & 12.324731 & 7         & 9         & 0.9748869 & 0.9503371\\\\\n",
       "\\end{tabular}\n"
      ],
      "text/markdown": [
       "\n",
       "n_signal | susie_power | dap_power | susie_coverage | dap_coverage | susie_avg_size | dap_avg_size | susie_median_size | dap_median_size | susie_avg_ld | dap_avg_ld | \n",
       "|---|---|---|---|---|\n",
       "| 1         | 0.9866667 | 0.8866667 | 0.9801325 | 0.9851852 | 11.44257  |  6.056391 | 3         | 3         | 0.9937229 | 0.9882739 | \n",
       "| 2         | 0.6716667 | 0.6016667 | 0.9503546 | 0.9181586 | 18.62189  |  8.105850 | 4         | 5         | 0.9863083 | 0.9712244 | \n",
       "| 3         | 0.5222222 | 0.4866667 | 0.9290061 | 0.9123932 | 18.05022  | 10.435597 | 6         | 7         | 0.9807993 | 0.9607073 | \n",
       "| 4         | 0.4516667 | 0.4033333 | 0.9207746 | 0.8943396 | 17.86424  | 11.149789 | 6         | 8         | 0.9786782 | 0.9485908 | \n",
       "| 5         | 0.3653333 | 0.3233333 | 0.9033392 | 0.8724203 | 22.06809  | 12.324731 | 7         | 9         | 0.9748869 | 0.9503371 | \n",
       "\n",
       "\n"
      ],
      "text/plain": [
       "  n_signal susie_power dap_power susie_coverage dap_coverage susie_avg_size\n",
       "1 1        0.9866667   0.8866667 0.9801325      0.9851852    11.44257      \n",
       "2 2        0.6716667   0.6016667 0.9503546      0.9181586    18.62189      \n",
       "3 3        0.5222222   0.4866667 0.9290061      0.9123932    18.05022      \n",
       "4 4        0.4516667   0.4033333 0.9207746      0.8943396    17.86424      \n",
       "5 5        0.3653333   0.3233333 0.9033392      0.8724203    22.06809      \n",
       "  dap_avg_size susie_median_size dap_median_size susie_avg_ld dap_avg_ld\n",
       "1  6.056391    3                 3               0.9937229    0.9882739 \n",
       "2  8.105850    4                 5               0.9863083    0.9712244 \n",
       "3 10.435597    6                 7               0.9807993    0.9607073 \n",
       "4 11.149789    6                 8               0.9786782    0.9485908 \n",
       "5 12.324731    7                 9               0.9748869    0.9503371 "
      ]
     },
     "metadata": {},
     "output_type": "display_data"
    }
   ],
   "source": [
    "previous_res = readRDS('/home/gaow/GIT/github/mvarbvs/dsc/susie_comparison/Power_comparison_1008_cluster_prob_prior_0p1_null_0p0.rds')[,-c(2,3,4)]\n",
    "previous_res"
   ]
  },
  {
   "cell_type": "code",
   "execution_count": 25,
   "metadata": {
    "kernel": "R"
   },
   "outputs": [],
   "source": [
    "res = cbind(previous_res, hierinf_result)"
   ]
  },
  {
   "cell_type": "code",
   "execution_count": 33,
   "metadata": {
    "kernel": "R"
   },
   "outputs": [
    {
     "data": {
      "text/html": [
       "<table>\n",
       "<thead><tr><th scope=col>n_signal</th><th scope=col>susie_power</th><th scope=col>dap_power</th><th scope=col>hierinf_power</th><th scope=col>susie_coverage</th><th scope=col>dap_coverage</th><th scope=col>hierinf_coverage</th><th scope=col>susie_median_size</th><th scope=col>dap_median_size</th><th scope=col>hierinf_median_size</th><th scope=col>susie_avg_ld</th><th scope=col>dap_avg_ld</th><th scope=col>hierinf_avg_ld</th></tr></thead>\n",
       "<tbody>\n",
       "\t<tr><td>1        </td><td>0.9866667</td><td>0.8866667</td><td>0.9638158</td><td>0.9801325</td><td>0.9851852</td><td>0.9451613</td><td>3        </td><td>3        </td><td> 20.5    </td><td>0.9937229</td><td>0.9882739</td><td>0.6827317</td></tr>\n",
       "\t<tr><td>2        </td><td>0.6716667</td><td>0.6016667</td><td>0.5049342</td><td>0.9503546</td><td>0.9181586</td><td>0.9746032</td><td>4        </td><td>5        </td><td> 48.0    </td><td>0.9863083</td><td>0.9712244</td><td>0.5711423</td></tr>\n",
       "\t<tr><td>3        </td><td>0.5222222</td><td>0.4866667</td><td>0.3453947</td><td>0.9290061</td><td>0.9123932</td><td>0.9692308</td><td>6        </td><td>7        </td><td> 90.0    </td><td>0.9807993</td><td>0.9607073</td><td>0.5049821</td></tr>\n",
       "\t<tr><td>4        </td><td>0.4516667</td><td>0.4033333</td><td>0.2541118</td><td>0.9207746</td><td>0.8943396</td><td>0.9478528</td><td>6        </td><td>8        </td><td>113.0    </td><td>0.9786782</td><td>0.9485908</td><td>0.4598012</td></tr>\n",
       "\t<tr><td>5        </td><td>0.3653333</td><td>0.3233333</td><td>0.2072368</td><td>0.9033392</td><td>0.8724203</td><td>0.9633028</td><td>7        </td><td>9        </td><td>238.0    </td><td>0.9748869</td><td>0.9503371</td><td>0.3946175</td></tr>\n",
       "</tbody>\n",
       "</table>\n"
      ],
      "text/latex": [
       "\\begin{tabular}{r|lllllllllllll}\n",
       " n\\_signal & susie\\_power & dap\\_power & hierinf\\_power & susie\\_coverage & dap\\_coverage & hierinf\\_coverage & susie\\_median\\_size & dap\\_median\\_size & hierinf\\_median\\_size & susie\\_avg\\_ld & dap\\_avg\\_ld & hierinf\\_avg\\_ld\\\\\n",
       "\\hline\n",
       "\t 1         & 0.9866667 & 0.8866667 & 0.9638158 & 0.9801325 & 0.9851852 & 0.9451613 & 3         & 3         &  20.5     & 0.9937229 & 0.9882739 & 0.6827317\\\\\n",
       "\t 2         & 0.6716667 & 0.6016667 & 0.5049342 & 0.9503546 & 0.9181586 & 0.9746032 & 4         & 5         &  48.0     & 0.9863083 & 0.9712244 & 0.5711423\\\\\n",
       "\t 3         & 0.5222222 & 0.4866667 & 0.3453947 & 0.9290061 & 0.9123932 & 0.9692308 & 6         & 7         &  90.0     & 0.9807993 & 0.9607073 & 0.5049821\\\\\n",
       "\t 4         & 0.4516667 & 0.4033333 & 0.2541118 & 0.9207746 & 0.8943396 & 0.9478528 & 6         & 8         & 113.0     & 0.9786782 & 0.9485908 & 0.4598012\\\\\n",
       "\t 5         & 0.3653333 & 0.3233333 & 0.2072368 & 0.9033392 & 0.8724203 & 0.9633028 & 7         & 9         & 238.0     & 0.9748869 & 0.9503371 & 0.3946175\\\\\n",
       "\\end{tabular}\n"
      ],
      "text/markdown": [
       "\n",
       "n_signal | susie_power | dap_power | hierinf_power | susie_coverage | dap_coverage | hierinf_coverage | susie_median_size | dap_median_size | hierinf_median_size | susie_avg_ld | dap_avg_ld | hierinf_avg_ld | \n",
       "|---|---|---|---|---|\n",
       "| 1         | 0.9866667 | 0.8866667 | 0.9638158 | 0.9801325 | 0.9851852 | 0.9451613 | 3         | 3         |  20.5     | 0.9937229 | 0.9882739 | 0.6827317 | \n",
       "| 2         | 0.6716667 | 0.6016667 | 0.5049342 | 0.9503546 | 0.9181586 | 0.9746032 | 4         | 5         |  48.0     | 0.9863083 | 0.9712244 | 0.5711423 | \n",
       "| 3         | 0.5222222 | 0.4866667 | 0.3453947 | 0.9290061 | 0.9123932 | 0.9692308 | 6         | 7         |  90.0     | 0.9807993 | 0.9607073 | 0.5049821 | \n",
       "| 4         | 0.4516667 | 0.4033333 | 0.2541118 | 0.9207746 | 0.8943396 | 0.9478528 | 6         | 8         | 113.0     | 0.9786782 | 0.9485908 | 0.4598012 | \n",
       "| 5         | 0.3653333 | 0.3233333 | 0.2072368 | 0.9033392 | 0.8724203 | 0.9633028 | 7         | 9         | 238.0     | 0.9748869 | 0.9503371 | 0.3946175 | \n",
       "\n",
       "\n"
      ],
      "text/plain": [
       "  n_signal susie_power dap_power hierinf_power susie_coverage dap_coverage\n",
       "1 1        0.9866667   0.8866667 0.9638158     0.9801325      0.9851852   \n",
       "2 2        0.6716667   0.6016667 0.5049342     0.9503546      0.9181586   \n",
       "3 3        0.5222222   0.4866667 0.3453947     0.9290061      0.9123932   \n",
       "4 4        0.4516667   0.4033333 0.2541118     0.9207746      0.8943396   \n",
       "5 5        0.3653333   0.3233333 0.2072368     0.9033392      0.8724203   \n",
       "  hierinf_coverage susie_median_size dap_median_size hierinf_median_size\n",
       "1 0.9451613        3                 3                20.5              \n",
       "2 0.9746032        4                 5                48.0              \n",
       "3 0.9692308        6                 7                90.0              \n",
       "4 0.9478528        6                 8               113.0              \n",
       "5 0.9633028        7                 9               238.0              \n",
       "  susie_avg_ld dap_avg_ld hierinf_avg_ld\n",
       "1 0.9937229    0.9882739  0.6827317     \n",
       "2 0.9863083    0.9712244  0.5711423     \n",
       "3 0.9807993    0.9607073  0.5049821     \n",
       "4 0.9786782    0.9485908  0.4598012     \n",
       "5 0.9748869    0.9503371  0.3946175     "
      ]
     },
     "metadata": {},
     "output_type": "display_data"
    }
   ],
   "source": [
    "res[,c(1,2,3,13,4,5,14,8,9,15,10,11,16)]"
   ]
  }
 ],
 "metadata": {
  "kernelspec": {
   "display_name": "SoS",
   "language": "sos",
   "name": "sos"
  },
  "language_info": {
   "codemirror_mode": "sos",
   "file_extension": ".sos",
   "mimetype": "text/x-sos",
   "name": "sos",
   "nbconvert_exporter": "sos_notebook.converter.SoS_Exporter",
   "pygments_lexer": "sos"
  },
  "sos": {
   "kernels": [
    [
     "R",
     "ir",
     "R",
     "#DCDCDA",
     "r"
    ],
    [
     "SoS",
     "sos",
     "",
     "",
     "sos"
    ]
   ],
   "version": "0.19.13"
  }
 },
 "nbformat": 4,
 "nbformat_minor": 4
}
